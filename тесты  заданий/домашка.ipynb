{
 "cells": [
  {
   "cell_type": "code",
   "execution_count": null,
   "metadata": {},
   "outputs": [],
   "source": [
    "Задача 1 Приветствие"
   ]
  },
  {
   "cell_type": "code",
   "execution_count": 4,
   "metadata": {},
   "outputs": [
    {
     "name": "stdout",
     "output_type": "stream",
     "text": [
      "Введите ваше имя: Катя\n",
      "Привет,Катя!\n"
     ]
    }
   ],
   "source": [
    "name = input(\"Введите ваше имя: \")\n",
    "print(\"Привет,\",name,\"!\", sep='')"
   ]
  },
  {
   "cell_type": "code",
   "execution_count": null,
   "metadata": {},
   "outputs": [],
   "source": [
    "Задача 2 Возведение в степень."
   ]
  },
  {
   "cell_type": "code",
   "execution_count": 5,
   "metadata": {},
   "outputs": [
    {
     "data": {
      "text/plain": [
       "1048576"
      ]
     },
     "execution_count": 5,
     "metadata": {},
     "output_type": "execute_result"
    }
   ],
   "source": [
    "2**20"
   ]
  },
  {
   "cell_type": "code",
   "execution_count": null,
   "metadata": {},
   "outputs": [],
   "source": [
    "Задача 3 Гипотенуза "
   ]
  },
  {
   "cell_type": "code",
   "execution_count": 15,
   "metadata": {},
   "outputs": [
    {
     "name": "stdout",
     "output_type": "stream",
     "text": [
      "Введите длину катета 3\n",
      "Введите длину катета 4\n",
      "5.0\n"
     ]
    }
   ],
   "source": [
    "a=int(input(\"Введите длину катета \"))\n",
    "b=int(input(\"Введите длину катета \"))\n",
    "print((a**2+b**2)**0.5)"
   ]
  },
  {
   "cell_type": "code",
   "execution_count": null,
   "metadata": {},
   "outputs": [],
   "source": [
    "Задача 4 Делёж яблок "
   ]
  },
  {
   "cell_type": "code",
   "execution_count": 23,
   "metadata": {},
   "outputs": [
    {
     "name": "stdout",
     "output_type": "stream",
     "text": [
      "Введите количество школьников 3\n",
      "Введите количества яблок 14\n",
      "4\n"
     ]
    }
   ],
   "source": [
    "n=int(input(\"Введите количество школьников \"))\n",
    "k=int(input(\"Введите количества яблок \"))\n",
    "print(k //n)"
   ]
  },
  {
   "cell_type": "code",
   "execution_count": null,
   "metadata": {},
   "outputs": [],
   "source": [
    "Задача 5"
   ]
  },
  {
   "cell_type": "code",
   "execution_count": 25,
   "metadata": {},
   "outputs": [
    {
     "name": "stdout",
     "output_type": "stream",
     "text": [
      "Введите Ваше целое число  2\n",
      "Введено следующие число 2\n",
      "Следующее число 3, предыдущее число 1\n"
     ]
    }
   ],
   "source": [
    "c= int(input(\"Введите Ваше целое число  \"))\n",
    "pred=c-1\n",
    "sled=c+1\n",
    "print(\"Введено следующие число\",c)\n",
    "print(\"Следующее число\",str(sled)+\", предыдущее число\", pred)\n"
   ]
  },
  {
   "cell_type": "code",
   "execution_count": null,
   "metadata": {},
   "outputs": [],
   "source": [
    "Задача 6"
   ]
  },
  {
   "cell_type": "code",
   "execution_count": 27,
   "metadata": {},
   "outputs": [
    {
     "name": "stdout",
     "output_type": "stream",
     "text": [
      "Введите Ваше целое число  8\n",
      "Cледующее за ним четное число 10\n"
     ]
    }
   ],
   "source": [
    "c=int(input(\"Введите Ваше целое число  \"))\n",
    "d=c+2-(c%2)\n",
    "print(\"Cледующее за ним четное число\",d,)"
   ]
  },
  {
   "cell_type": "code",
   "execution_count": null,
   "metadata": {},
   "outputs": [],
   "source": [
    "Задача 7"
   ]
  },
  {
   "cell_type": "code",
   "execution_count": 28,
   "metadata": {},
   "outputs": [
    {
     "name": "stdout",
     "output_type": "stream",
     "text": [
      "Введите положительное число 12456789658926158999978787\n",
      "Сумма цифр 165\n"
     ]
    }
   ],
   "source": [
    "n = input(\"Введите положительное число \")\n",
    "sum = 0\n",
    "for i in n:\n",
    "    sum += int(i)\n",
    "print(\"Сумма цифр\",sum)"
   ]
  },
  {
   "cell_type": "code",
   "execution_count": null,
   "metadata": {},
   "outputs": [],
   "source": [
    "Задача 8 "
   ]
  },
  {
   "cell_type": "code",
   "execution_count": 9,
   "metadata": {},
   "outputs": [
    {
     "name": "stdout",
     "output_type": "stream",
     "text": [
      "Введите длину списка 3\n",
      "1\n",
      "2\n",
      "3\n",
      "Введите индекс 1\n",
      "Последний введеный элемент 'insertion'\n",
      "['1', '2', '3']\n",
      "['1', \"'insertion'\", '2', '3']\n"
     ]
    }
   ],
   "source": [
    "l=int(input(\"Введите длину списка \"))\n",
    "nums=[]\n",
    "for i in range(0,l):\n",
    "    nums.append(input())\n",
    "k=int(input(\"Введите индекс \"))\n",
    "new=input(\"Последний введеный элемент \")\n",
    "numsn=nums[:k]+[new]+nums[k:]\n",
    "print(nums)\n",
    "print(numsn)\n"
   ]
  },
  {
   "cell_type": "code",
   "execution_count": null,
   "metadata": {},
   "outputs": [],
   "source": [
    "Задача 9"
   ]
  },
  {
   "cell_type": "code",
   "execution_count": 2,
   "metadata": {},
   "outputs": [
    {
     "name": "stdout",
     "output_type": "stream",
     "text": [
      "Введите длину списка 5\n",
      "1\n",
      "2\n",
      "3\n",
      "4\n",
      "5\n",
      "['1', '2', '3', '4', '5']\n",
      "['1', '3', '5']\n"
     ]
    }
   ],
   "source": [
    "l=int(input(\"Введите длину списка \"))\n",
    "nums=[]\n",
    "for i in range(0,l):\n",
    "    nums.append(input())\n",
    "chet=nums[::2]\n",
    "print(nums)\n",
    "print(chet)\n"
   ]
  },
  {
   "cell_type": "code",
   "execution_count": null,
   "metadata": {},
   "outputs": [],
   "source": [
    "Задача 10"
   ]
  },
  {
   "cell_type": "code",
   "execution_count": 6,
   "metadata": {},
   "outputs": [
    {
     "name": "stdout",
     "output_type": "stream",
     "text": [
      "Введите число n 2\n",
      "Введите число m 5\n",
      "2 3 4 5 "
     ]
    }
   ],
   "source": [
    "n=int(input(\"Введите число n \"))\n",
    "m=int(input(\"Введите число m \"))\n",
    "for i in range(n,m+1):\n",
    "    print(i,end = \" \")  "
   ]
  },
  {
   "cell_type": "code",
   "execution_count": null,
   "metadata": {},
   "outputs": [],
   "source": [
    "Задача 11"
   ]
  },
  {
   "cell_type": "code",
   "execution_count": 20,
   "metadata": {},
   "outputs": [
    {
     "name": "stdout",
     "output_type": "stream",
     "text": [
      "3.1315929035585537\n"
     ]
    }
   ],
   "source": [
    "pi=0\n",
    "for i in range(0,100):\n",
    "     pi=pi+4*(-1)**i/(2*i+1)\n",
    "print(pi)"
   ]
  },
  {
   "cell_type": "code",
   "execution_count": null,
   "metadata": {},
   "outputs": [],
   "source": [
    "Задача 12"
   ]
  },
  {
   "cell_type": "code",
   "execution_count": 6,
   "metadata": {},
   "outputs": [
    {
     "name": "stdout",
     "output_type": "stream",
     "text": [
      "Введите длину 5\n",
      "[1, 2, 3, 4, 5]\n",
      "[2, 1, 4, 3, 5]\n"
     ]
    }
   ],
   "source": [
    "d=int(input(\"Введите длину \"))\n",
    "lis=list(range(1,d+1,1))\n",
    "n=lis.copy()\n",
    "for i in range(1,d,2):\n",
    "    t=n[i-1]\n",
    "    n[i-1]=n[i]\n",
    "    n[i]=t\n",
    "print(lis)\n",
    "print(n)"
   ]
  },
  {
   "cell_type": "code",
   "execution_count": null,
   "metadata": {},
   "outputs": [],
   "source": [
    "Задача 13 Снежинка "
   ]
  },
  {
   "cell_type": "code",
   "execution_count": 6,
   "metadata": {},
   "outputs": [
    {
     "name": "stdout",
     "output_type": "stream",
     "text": [
      "Введите число n 5\n",
      "* . * . * \n",
      ". * * * . \n",
      "* * * * * \n",
      ". * * * . \n",
      "* . * . * \n"
     ]
    }
   ],
   "source": [
    "n=int(input(\"Введите число n \"))\n",
    "a = [[\".\"] * n for i in range(n)]\n",
    "for i in range(n):\n",
    "    a[i][i] = \"*\"\n",
    "    a[n-i-1][i]=\"*\"\n",
    "    a[int(n/2)][i]=\"*\"\n",
    "    a[i][int(n/2)]=\"*\"\n",
    "for i in range(n):\n",
    "    for j in range(n):\n",
    "        print(a[i][j], end =\" \")\n",
    "    print()\n"
   ]
  },
  {
   "cell_type": "code",
   "execution_count": null,
   "metadata": {},
   "outputs": [],
   "source": [
    "Задача 14 Транспонирование матрицы "
   ]
  },
  {
   "cell_type": "code",
   "execution_count": 16,
   "metadata": {},
   "outputs": [
    {
     "name": "stdout",
     "output_type": "stream",
     "text": [
      "Введите строки 4\n",
      "Введите столбцы 3\n",
      "1\n",
      "1\n",
      "1\n",
      "2\n",
      "2\n",
      "2\n",
      "3\n",
      "3\n",
      "3\n",
      "4\n",
      "4\n",
      "4\n",
      "[[1, 1, 1], [2, 2, 2], [3, 3, 3], [4, 4, 4]]\n",
      "[[1, 2, 3, 4], [1, 2, 3, 4], [1, 2, 3, 4]]\n"
     ]
    }
   ],
   "source": [
    "n=int(input(\"Введите строки \"))\n",
    "m=int(input(\"Введите столбцы \"))\n",
    "a = [[0] * m for i in range(n)]\n",
    "for i in range(n):\n",
    "    for j in range(m):\n",
    "        a[i][j]=int(input())\n",
    "print(a)\n",
    "b= [[0] * n for i in range(m)]\n",
    "for j in range(m):\n",
    "    for i in range(n):\n",
    "        b[j][i]=a[i][j]\n",
    "print(b)       "
   ]
  },
  {
   "cell_type": "code",
   "execution_count": null,
   "metadata": {},
   "outputs": [],
   "source": [
    "Задача 15 "
   ]
  },
  {
   "cell_type": "code",
   "execution_count": 18,
   "metadata": {},
   "outputs": [
    {
     "name": "stdout",
     "output_type": "stream",
     "text": [
      "Введите число n 4\n",
      "{-3: 9, -2: 4, -1: 1, 0: 0, 1: 1, 2: 4, 3: 9}\n"
     ]
    }
   ],
   "source": [
    "n=int(input(\"Введите число n \"))\n",
    "nw={}\n",
    "for i in range(-(n-1),n):\n",
    "    nw.update({i:i*i})\n",
    "print(nw)"
   ]
  },
  {
   "cell_type": "code",
   "execution_count": null,
   "metadata": {},
   "outputs": [],
   "source": [
    "Задача 16 Составление базы данных"
   ]
  },
  {
   "cell_type": "code",
   "execution_count": 21,
   "metadata": {},
   "outputs": [
    {
     "name": "stdout",
     "output_type": "stream",
     "text": [
      "27.2\n",
      "{26: 'Оксана', 34: 'Надежда', 24: 'Кристина', 28: 'Полина'}\n"
     ]
    }
   ],
   "source": [
    "nw={\"Катя\":27,\"Оксана\":26,\"Надежда\":34, \"Настя\":24, \"Полина\":28,\"Кристина\":24}\n",
    "del(nw[\"Катя\"])\n",
    "sv=0\n",
    "wn={}\n",
    "for k,v in nw.items():\n",
    "    sv=sv+v\n",
    "    wn.update({v:k})\n",
    "print(sv/len(nw))\n",
    "print(wn)"
   ]
  },
  {
   "cell_type": "code",
   "execution_count": null,
   "metadata": {},
   "outputs": [],
   "source": [
    "Задача 17 "
   ]
  },
  {
   "cell_type": "code",
   "execution_count": 23,
   "metadata": {},
   "outputs": [
    {
     "name": "stdout",
     "output_type": "stream",
     "text": [
      "{'Иванов': {'ручки': 2, 'конверты': 45}, 'Петров': {'ручки': 3, 'маркеры': 7, 'стикеры': 7}, 'Кулаков': {'ручки': 6, 'маркеры': 8, 'бумага': 345}, 'Миронов': {'салфетки': 3, 'стикеры': 45}, 'Суконов': {'ручки': 34}}\n",
      "47\n",
      "['Иванов', 'Петров', 'Кулаков', 'Суконов']\n",
      "505\n"
     ]
    }
   ],
   "source": [
    "dataset = (\n",
    "(\"Иванов\",\"ручки\",2), \n",
    "(\"Петров\",\"ручки\",3), \n",
    "(\"Кулаков\",\"ручки\",6), \n",
    "(\"Петров\",\"маркеры\",7), \n",
    "(\"Кулаков\",\"маркеры\",8), \n",
    "(\"Миронов\",\"салфетки\",3), \n",
    "(\"Петров\",\"стикеры\",7), \n",
    "(\"Кулаков\",\"бумага\",345), \n",
    "(\"Миронов\",\"стикеры\",45), \n",
    "(\"Суконов\",\"ручки\",34), \n",
    "(\"Иванов\",\"конверты\",45))\n",
    "G={}\n",
    "for (p,t,k) in dataset:\n",
    "    G.update({p:{}})\n",
    "for (p,t,k) in dataset:\n",
    "    G[p].update({t:k})    \n",
    "print(G)\n",
    "h=0\n",
    "for t,k in G['Иванов'].items():\n",
    "    h=h+k\n",
    "print(h) \n",
    "gv={}\n",
    "for (p,t,k) in dataset:\n",
    "    gv.update({t:[]})\n",
    "for (p,t,k) in dataset:\n",
    "    gv[t].append(p)\n",
    "print(gv['ручки'])\n",
    "del(dataset)\n",
    "vs=0\n",
    "for p,s in G.items():\n",
    "    for t,k in s.items():\n",
    "        vs=vs+k\n",
    "print(vs)    "
   ]
  },
  {
   "cell_type": "code",
   "execution_count": null,
   "metadata": {},
   "outputs": [],
   "source": [
    "Задача 18 "
   ]
  },
  {
   "cell_type": "code",
   "execution_count": 9,
   "metadata": {},
   "outputs": [
    {
     "name": "stdout",
     "output_type": "stream",
     "text": [
      "мир измениться я чувствовать этот в вода чувствовать в земля в воздух многий с что быть уйти и не остаться кто другой о этот весь начаться с великое кольцо три быть эльф бессмертный создание мудрый и справедливый с весь жить семь повелитель гном великое добытчик и мастеровой гора пещера девять девять кольцо быть человеческий род который всего власть в этот кольцо быть сила власть над каждый с народ но весь они обмануть другой что быть ещё один кольцо в страна мордора в огонь гора тёмный властелин саурон тайно единый кольцо весь другой и в этот кольцо он весь жестокость весь злоба и весь власть над весь жить один кольцо править весь \n",
      "{'весь': 24, 'править': 109, 'кольцо': 28, 'один': 76, 'жить': 39, 'над': 64, 'власть': 57, 'и': 17, 'злоба': 100, 'жестокость': 98, 'он': 96, 'этот': 4, 'в': 5, 'другой': 21, 'единый': 88, 'тайно': 87, 'саурон': 86, 'властелин': 85, 'тёмный': 84, 'гора': 47, 'огонь': 82, 'мордора': 80, 'страна': 79, 'ещё': 75, 'быть': 15, 'что': 14, 'обмануть': 71, 'они': 70, 'но': 68, 'народ': 67, 'с': 13, 'каждый': 65, 'сила': 62, 'всего': 56, 'который': 55, 'род': 54, 'человеческий': 53, 'девять': 49, 'пещера': 48, 'мастеровой': 46, 'добытчик': 44, 'великое': 27, 'гном': 42, 'повелитель': 41, 'семь': 40, 'справедливый': 36, 'мудрый': 34, 'создание': 33, 'бессмертный': 32, 'эльф': 31, 'три': 29, 'начаться': 25, 'о': 22, 'кто': 20, 'остаться': 19, 'не': 18, 'уйти': 16, 'многий': 12, 'воздух': 11, 'земля': 9, 'чувствовать': 3, 'вода': 6, 'я': 2, 'измениться': 1, 'мир': 0}\n",
      "мир измениться я чувствовать этот в вода Потеряно Потеряно земля Потеряно воздух многий с что быть уйти и не остаться кто другой о Потеряно весь начаться Потеряно великое кольцо три Потеряно эльф бессмертный создание мудрый Потеряно справедливый Потеряно Потеряно жить семь повелитель гном Потеряно добытчик Потеряно мастеровой гора пещера девять Потеряно Потеряно Потеряно человеческий род который всего власть Потеряно Потеряно Потеряно Потеряно сила Потеряно над каждый Потеряно народ но Потеряно они обмануть Потеряно Потеряно Потеряно ещё один Потеряно Потеряно страна мордора Потеряно огонь Потеряно тёмный властелин саурон тайно единый Потеряно Потеряно Потеряно Потеряно Потеряно Потеряно Потеряно он Потеряно жестокость Потеряно злоба Потеряно Потеряно Потеряно Потеряно Потеряно Потеряно Потеряно Потеряно править Потеряно "
     ]
    }
   ],
   "source": [
    "text_sindarin = ['Ilu,', 'varta', 'inye,', 'ruc-', 'sina', 'ana,', 'nen', 'ruc-', 'ana,', 'Arda', 'ana,', 'vista,',\n",
    " 'limbe', 'et', 'ma', 'na-', 'auta-', 'a,', 'ava', 'er-', 'man', 'nan', 'os', 'sina', 'ilquen', 'horya', 'et',\n",
    " 'alta', 'corma', 'nelde', 'na-', 'elda', 'ilfirin', 'onna', 'ngola,', 'a,', 'faila', 'et', 'ilquen', 'mar-,',\n",
    " 'otso', 'dancil', 'norno,', 'alta', 'farea', 'a,', 'curuvar', 'oron', 'felya,', 'nerte', 'nerte', 'corma', 'na-',\n",
    " 'firya', 'qwanur', 'ya', 'ilqua', 'here', 'ana,', 'sina', 'corma', 'na-', 'tuo', 'here', 'or', 'ilya', 'et',\n",
    " 'lie', 'ananta', 'ilquen', 'toi,', 'gweria', 'nan', 'ma', 'na-', 'yando', 'er,', 'corma', 'ana,', 'nore',\n",
    " 'mordor', 'ana,', 'sa,', 'oron', 'morna', 'harya-', 'sauron', 'lomba', 'er', 'corma', 'ilquen', 'nan', 'a,',\n",
    " 'ana,', 'sina', 'corma', 'se', 'ilquen', 'alica', 'ilquen', 'umea', 'a,', 'ilquen', 'here', 'or', 'ilquen',\n",
    " 'mar-,', 'er,', 'corma', 'tur-', 'ilquen']\n",
    "dictionary_from_sindarin = {'Arda': 'земля', 'Ilu,': 'мир', 'a,': 'и', 'alica': 'жестокость', 'alta': 'великое',\n",
    " 'ana,': 'в', 'ananta': 'но', 'auta-': 'уйти', 'ava': 'не', 'corma': 'кольцо', 'curuvar': 'мастеровой',\n",
    " 'dancil': 'повелитель', 'elda': 'эльф', 'er': 'единый', 'er,': 'один', 'er-': 'остаться', 'et': 'с',\n",
    " 'faila': 'справедливый', 'farea': 'добытчик', 'felya,': 'пещера', 'firya': 'человеческий', 'gweria': 'обмануть',\n",
    " 'harya-': 'властелин', 'here': 'власть', 'horya': 'начаться', 'ilfirin': 'бессмертный', 'ilqua': 'всего',\n",
    " 'ilquen': 'весь', 'ilya': 'каждый', 'inye,': 'я', 'lie': 'народ', 'limbe': 'многий', 'lomba': 'тайно',\n",
    " 'ma': 'что', 'man': 'кто', 'mar-,': 'жить', 'mordor': 'мордора', 'morna': 'тёмный', 'na-': 'быть',\n",
    " 'nan': 'другой', 'nelde': 'три', 'nen': 'вода', 'nerte': 'девять', 'ngola,': 'мудрый', 'nore': 'страна',\n",
    " 'norno,': 'гном', 'onna': 'создание', 'or': 'над', 'oron': 'гора', 'os': 'о', 'otso': 'семь', 'qwanur': 'род',\n",
    " 'ruc-': 'чувствовать', 'sa,': 'огонь', 'sauron': 'саурон', 'se': 'он', 'sina': 'этот', 'toi,': 'они',\n",
    " 'tuo': 'сила', 'tur-': 'править', 'umea': 'злоба', 'varta': 'измениться', 'vista,': 'воздух', 'ya': 'который',\n",
    " 'yando': 'ещё'}\n",
    "N=[]\n",
    "for i in text_sindarin:\n",
    "    N.append(dictionary_from_sindarin[i])\n",
    "for i in N:\n",
    "    print(i,end=' ')\n",
    "\n",
    "print()\n",
    "dic={}\n",
    "for i in range(1,len(N)+1):\n",
    "    dic.update({N[-i]:len(N)-i})\n",
    "print(dic)\n",
    "\n",
    "a=['Потеряно'] * len(N) \n",
    "for s,i in dic.items():\n",
    "    a[i]=s\n",
    "for i in a:\n",
    "    print(i,end=' ')    "
   ]
  }
 ],
 "metadata": {
  "kernelspec": {
   "display_name": "Python 3",
   "language": "python",
   "name": "python3"
  },
  "language_info": {
   "codemirror_mode": {
    "name": "ipython",
    "version": 3
   },
   "file_extension": ".py",
   "mimetype": "text/x-python",
   "name": "python",
   "nbconvert_exporter": "python",
   "pygments_lexer": "ipython3",
   "version": "3.6.6"
  }
 },
 "nbformat": 4,
 "nbformat_minor": 2
}

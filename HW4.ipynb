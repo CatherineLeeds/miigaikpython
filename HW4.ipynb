{
 "cells": [
  {
   "cell_type": "code",
   "execution_count": null,
   "metadata": {},
   "outputs": [],
   "source": [
    "Задача 1 «Длина отрезка»"
   ]
  },
  {
   "cell_type": "code",
   "execution_count": 6,
   "metadata": {},
   "outputs": [
    {
     "name": "stdout",
     "output_type": "stream",
     "text": [
      "Введите x1 1\n",
      "Введите y1 2\n",
      "Введите x2 3\n",
      "Введите y2 4\n"
     ]
    },
    {
     "data": {
      "text/plain": [
       "2.8284271247461903"
      ]
     },
     "execution_count": 6,
     "metadata": {},
     "output_type": "execute_result"
    }
   ],
   "source": [
    "import math\n",
    "x1=float(input('Введите x1 '))\n",
    "y1=float(input('Введите y1 '))\n",
    "x2=float(input('Введите x2 '))\n",
    "y2=float(input('Введите y2 '))\n",
    "def distance(x1, y1, x2, y2):\n",
    "    d=math.sqrt((x2-x1)**2+(y2-y1)**2)\n",
    "    return d\n",
    "distance(x1,y1,x2,y2)"
   ]
  },
  {
   "cell_type": "code",
   "execution_count": null,
   "metadata": {},
   "outputs": [],
   "source": [
    "Задача 2"
   ]
  },
  {
   "cell_type": "code",
   "execution_count": 8,
   "metadata": {},
   "outputs": [
    {
     "name": "stdout",
     "output_type": "stream",
     "text": [
      "10\n"
     ]
    }
   ],
   "source": [
    "first_list = ['Ночь', 'улица', 'фонарь', 'аптека', 'Бессмысленный', 'и', 'тусклый', 'свет']\n",
    "second_list = ['Живи', 'еще', 'хоть', 'четверть', 'века', 'Все', 'будет', 'так', 'Исхода', 'нет']\n",
    "def maxlist(first_list, second_list):\n",
    "    m=0\n",
    "    for i in first_list:\n",
    "        for j in second_list:\n",
    "            k=abs(len(i)-len(j))\n",
    "            if k>m:\n",
    "                m=k\n",
    "    return m\n",
    "print(maxlist(first_list, second_list))"
   ]
  },
  {
   "cell_type": "code",
   "execution_count": null,
   "metadata": {},
   "outputs": [],
   "source": [
    "Задача 3 "
   ]
  },
  {
   "cell_type": "code",
   "execution_count": 1,
   "metadata": {},
   "outputs": [
    {
     "name": "stdout",
     "output_type": "stream",
     "text": [
      "Введите строку Привеееееееет!!! Я тттвоя новаяяя стррока)))))\n",
      "Привет! Я твоя новая строка)\n"
     ]
    }
   ],
   "source": [
    "stroka=input('Введите строку ')\n",
    "def normal(stroka):\n",
    "    strokn=stroka[0]\n",
    "    for i in range(1,len(stroka)):\n",
    "        if stroka[i]!=stroka[i-1]:\n",
    "            strokn=strokn+stroka[i]\n",
    "    return strokn\n",
    "nor=normal(stroka)\n",
    "print(nor)   "
   ]
  },
  {
   "cell_type": "code",
   "execution_count": null,
   "metadata": {},
   "outputs": [],
   "source": [
    "Задача 4"
   ]
  },
  {
   "cell_type": "code",
   "execution_count": 22,
   "metadata": {},
   "outputs": [
    {
     "name": "stdout",
     "output_type": "stream",
     "text": [
      "Введите строку: holly\n",
      "hIJKlMNoPQRSTUVWXy\n"
     ]
    }
   ],
   "source": [
    "stroka=input('Введите строку: ')\n",
    "g=list(map(chr,range(ord('A'),ord('Z')+1)))\n",
    "def findg(s,c):\n",
    "    for i in range(0,len(s)):\n",
    "        if c==s[i]:\n",
    "            return i\n",
    "    return -1\n",
    "def alfavit(stroka):\n",
    "    for i in stroka:\n",
    "        i=i.upper()\n",
    "        g[findg(g,i)]=g[findg(g,i)].lower()\n",
    "    k=list(stroka)\n",
    "    k.sort()\n",
    "    return \"\".join(g[findg(g,k[0].lower()):findg(g,k[-1].lower())+1])\n",
    "print(alfavit(stroka))"
   ]
  },
  {
   "cell_type": "code",
   "execution_count": null,
   "metadata": {},
   "outputs": [],
   "source": [
    "Задача 5"
   ]
  },
  {
   "cell_type": "code",
   "execution_count": 5,
   "metadata": {},
   "outputs": [
    {
     "name": "stdout",
     "output_type": "stream",
     "text": [
      "Сдача:0\n"
     ]
    },
    {
     "data": {
      "text/plain": [
       "True"
      ]
     },
     "execution_count": 5,
     "metadata": {},
     "output_type": "execute_result"
    }
   ],
   "source": [
    "cash = {25:1, 50:2, 100:1}\n",
    "change=int(input('Сдача:'))\n",
    "def cashbox(cash,change):\n",
    "    while change>=100 and cash[100]>0:\n",
    "        cash[100]-=1\n",
    "        change-=100\n",
    "    while change>=50 and cash[50]>0:\n",
    "        cash[50]-=1\n",
    "        change-=50\n",
    "    while change>=25 and cash[25]>0:\n",
    "        cash[25]-=1\n",
    "        change-=25\n",
    "    if change==0: \n",
    "        return True \n",
    "    else:\n",
    "        return False\n",
    "cashbox(cash,change)"
   ]
  },
  {
   "cell_type": "code",
   "execution_count": null,
   "metadata": {},
   "outputs": [],
   "source": [
    "Задача 6"
   ]
  },
  {
   "cell_type": "code",
   "execution_count": 10,
   "metadata": {},
   "outputs": [
    {
     "data": {
      "text/plain": [
       "False"
      ]
     },
     "execution_count": 10,
     "metadata": {},
     "output_type": "execute_result"
    }
   ],
   "source": [
    "cash = {25:0, 50:0, 100:0}\n",
    "def Kesha(*babyshki):\n",
    "    for babyska in babyshki:\n",
    "        if babyska==25:\n",
    "            cash[25]+=1\n",
    "        elif cashbox(cash,babyska-25):\n",
    "            pass\n",
    "        else:\n",
    "            return False\n",
    "    return True\n",
    "Kesha(25, 25, 50, 50, 100)"
   ]
  },
  {
   "cell_type": "code",
   "execution_count": null,
   "metadata": {},
   "outputs": [],
   "source": [
    "Задача 7"
   ]
  },
  {
   "cell_type": "code",
   "execution_count": 1,
   "metadata": {},
   "outputs": [
    {
     "data": {
      "text/plain": [
       "'IIIII'"
      ]
     },
     "execution_count": 1,
     "metadata": {},
     "output_type": "execute_result"
    }
   ],
   "source": [
    "def Keglya(N,K):\n",
    "    g=list('I'*(N+1))\n",
    "    for i in range(0,K):\n",
    "        li=int(input())\n",
    "        ri=int(input())\n",
    "        for j in range(li,ri+1):\n",
    "            g[j]='.'\n",
    "    return ''.join(g[1:])\n",
    "Keglya(5,0)"
   ]
  },
  {
   "cell_type": "code",
   "execution_count": null,
   "metadata": {},
   "outputs": [],
   "source": [
    "Задача 8 Записная книжка"
   ]
  },
  {
   "cell_type": "code",
   "execution_count": 27,
   "metadata": {},
   "outputs": [
    {
     "data": {
      "text/plain": [
       "{'Рождественский Р.': {'adress': 'Мосфильмовская 34',\n",
       "  'number': '+1-541-754-3010 156'},\n",
       " 'Воронцов Михаил': {'adress': 'ул. Большая Полянка, Москва',\n",
       "  'number': '+7-923-911-2134'},\n",
       " 'Кужим': {'adress': 'Санкт-Петербург, ул.Свободы, дом 1',\n",
       "  'number': '+34-3145-3245'}}"
      ]
     },
     "execution_count": 27,
     "metadata": {},
     "output_type": "execute_result"
    }
   ],
   "source": [
    "s = '''+1-541-754-3010 156?!  Мосфильмовская 34,  <Рождественский Р.>\\n  ул. Большая Полянка,  <Воронцов Михаил>  Москва!  +7-923-911-2134\\n<Кужим>  Санкт-Петербург, ул.Свободы,  +34-3145-3245  ?дом 1'''\n",
    "def Wall_e(s):\n",
    "    s=s.replace('?','')\n",
    "    s=s.replace('!','')\n",
    "    s=s.split('\\n')\n",
    "    reass={}\n",
    "    for i in s:\n",
    "        number=0\n",
    "        name=0\n",
    "        sname=''\n",
    "        j=i.split('  ')\n",
    "        for index in range(0,len(j)):\n",
    "            if len(j[index])==0:\n",
    "                continue \n",
    "            if j[index][0]=='<':\n",
    "                name=index\n",
    "            if j[index][0]=='+':\n",
    "                number=index\n",
    "        sname = j[name][1:-1]\n",
    "        reass.update({sname:{\"adress\":\"\",\"number\":j[number]}})\n",
    "        for index in range(0,len(j)):\n",
    "            if index==name or index ==number:\n",
    "                continue\n",
    "            reass[sname]['adress']+= ' '+j[index]\n",
    "        for k,v in reass.items():\n",
    "            if  reass[k]['adress'][-1]==\",\":\n",
    "                reass[k]['adress']=reass[k]['adress'][0:-1]\n",
    "            reass[k]['adress']=reass[k]['adress'].strip()\n",
    "    return reass\n",
    "Wall_e(s)"
   ]
  },
  {
   "cell_type": "code",
   "execution_count": null,
   "metadata": {},
   "outputs": [],
   "source": [
    "Задача 9 «Диагонали, параллельные главной» (1 балл)\n",
    "На вход функции подается число n. Функция должна создать массив nxn и заполнить его по следующему правилу. \n",
    "На главной диагонали должны быть записаны числа 0. На двух диагоналях, прилегающих к главной, числа 1. \n",
    "На следующих двух диагоналях числа 2, и т.д"
   ]
  },
  {
   "cell_type": "code",
   "execution_count": 35,
   "metadata": {},
   "outputs": [
    {
     "name": "stdout",
     "output_type": "stream",
     "text": [
      "5\n",
      "0 1 2 3 4 \n",
      "1 0 1 2 3 \n",
      "2 1 0 1 2 \n",
      "3 2 1 0 1 \n",
      "4 3 2 1 0 \n"
     ]
    }
   ],
   "source": [
    "n=int(input())\n",
    "def massiv(n):\n",
    "    a = [0] * n\n",
    "    for i in range(n):\n",
    "        a[i] = [0] * n\n",
    "    for i in range(n):\n",
    "        for j in range(n):\n",
    "            for g in range(n):\n",
    "                if i-g==j:\n",
    "                    a[j][i]=g \n",
    "                if i+g==j:\n",
    "                    a[j][i]=g\n",
    "    return a \n",
    "a=massiv(n)\n",
    "for i in range(n):\n",
    "    for j in range(n):\n",
    "        print(a[i][j],end=' ')\n",
    "    print()\n"
   ]
  },
  {
   "cell_type": "code",
   "execution_count": null,
   "metadata": {},
   "outputs": [],
   "source": [
    "Задача 10 "
   ]
  },
  {
   "cell_type": "code",
   "execution_count": 47,
   "metadata": {},
   "outputs": [
    {
     "name": "stdout",
     "output_type": "stream",
     "text": [
      "6\n"
     ]
    },
    {
     "data": {
      "text/plain": [
       "8"
      ]
     },
     "execution_count": 47,
     "metadata": {},
     "output_type": "execute_result"
    }
   ],
   "source": [
    "n=int(input())\n",
    "def fib(n):\n",
    "    if n==0:\n",
    "        return 0\n",
    "    if n==1:\n",
    "        return 1\n",
    "    return fib(n-1)+fib(n-2)\n",
    "fib(n)\n",
    "    "
   ]
  }
 ],
 "metadata": {
  "kernelspec": {
   "display_name": "Python 3",
   "language": "python",
   "name": "python3"
  },
  "language_info": {
   "codemirror_mode": {
    "name": "ipython",
    "version": 3
   },
   "file_extension": ".py",
   "mimetype": "text/x-python",
   "name": "python",
   "nbconvert_exporter": "python",
   "pygments_lexer": "ipython3",
   "version": "3.6.6"
  }
 },
 "nbformat": 4,
 "nbformat_minor": 2
}
